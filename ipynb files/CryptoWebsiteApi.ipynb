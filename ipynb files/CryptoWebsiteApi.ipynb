{
  "nbformat": 4,
  "nbformat_minor": 0,
  "metadata": {
    "colab": {
      "private_outputs": true,
      "provenance": [],
      "authorship_tag": "ABX9TyMUEjdpKIrNChPRVT0rCl5v",
      "include_colab_link": true
    },
    "kernelspec": {
      "name": "python3",
      "display_name": "Python 3"
    },
    "language_info": {
      "name": "python"
    }
  },
  "cells": [
    {
      "cell_type": "markdown",
      "metadata": {
        "id": "view-in-github",
        "colab_type": "text"
      },
      "source": [
        "<a href=\"https://colab.research.google.com/github/heavidevi/A2-CS-P4-Solutions/blob/main/ipynb%20files/CryptoWebsiteApi.ipynb\" target=\"_parent\"><img src=\"https://colab.research.google.com/assets/colab-badge.svg\" alt=\"Open In Colab\"/></a>"
      ]
    },
    {
      "cell_type": "markdown",
      "source": [
        "public API"
      ],
      "metadata": {
        "id": "t4inXy-zW0KH"
      }
    },
    {
      "cell_type": "code",
      "execution_count": null,
      "metadata": {
        "id": "zr6Y1UEcVl57"
      },
      "outputs": [],
      "source": [
        "def api_runner():\n",
        "    import pandas as pd\n",
        "\n",
        "    global df\n",
        "    df=pd.DataFrame()\n",
        "    from requests import Request, Session\n",
        "    from requests.exceptions import ConnectionError, Timeout, TooManyRedirects\n",
        "    import json\n",
        "\n",
        "    url = 'https://pro-api.coinmarketcap.com/v1/cryptocurrency/listings/latest'\n",
        "    parameters = {\n",
        "    'start':'1',\n",
        "    'limit':'5000',\n",
        "    'convert':'USD'\n",
        "    }\n",
        "    headers = {\n",
        "    'Accepts': 'application/json',\n",
        "    'X-CMC_PRO_API_KEY': 'a0d47f2f-e9ec-4f2a-bc2d-5531230254ec',\n",
        "    }\n",
        "\n",
        "    session = Session()\n",
        "    session.headers.update(headers)\n",
        "\n",
        "    try:\n",
        "        response = session.get(url, params=parameters)\n",
        "        data = json.loads(response.text)\n",
        "        print(data)\n",
        "    except (ConnectionError, Timeout, TooManyRedirects) as e:\n",
        "        print(e)\n",
        "\n",
        "    df = pd.json_normalize(data['data']) #stucturizing the data\n",
        "    df['timestamp'] = pd.to_datetime('now')  #having datetime as now\n",
        "    df  #concatenating the dataframes\n",
        "\n",
        "    if os.path.isfile(r'API.csv'):\n",
        "        df.to_csv(r'API.csv',header='column_names')\n",
        "    else:\n",
        "        df.to_csv(r'API.csv',mode='a',header=False)\n"
      ]
    },
    {
      "cell_type": "code",
      "source": [
        "import os\n",
        "from time import time\n",
        "from time import sleep\n",
        "\n",
        "for i in range(333):\n",
        "    api_runner()\n",
        "    print('API Runner completed')\n",
        "    sleep(60) #sleep for 1 minute\n",
        "exit()"
      ],
      "metadata": {
        "id": "IWLFOEVzhWj0"
      },
      "execution_count": null,
      "outputs": []
    },
    {
      "cell_type": "code",
      "source": [
        "pd.set_option('display.float_format', lambda x: '%.5f' % x)"
      ],
      "metadata": {
        "id": "Pz4hwLTAuHDQ"
      },
      "execution_count": null,
      "outputs": []
    },
    {
      "cell_type": "code",
      "source": [
        "df"
      ],
      "metadata": {
        "id": "VgJHKR2BNWU3"
      },
      "execution_count": null,
      "outputs": []
    },
    {
      "cell_type": "code",
      "source": [
        "df3 = df.groupby('name', sort=False)[['quote.USD.percent_change_1h','quote.USD.percent_change_24h','quote.USD.percent_change_7d','quote.USD.percent_change_30d','quote.USD.percent_change_60d','quote.USD.percent_change_90d']].mean()\n",
        "df3"
      ],
      "metadata": {
        "id": "o2N0tXFDNlzo"
      },
      "execution_count": null,
      "outputs": []
    },
    {
      "cell_type": "code",
      "source": [
        "\n",
        "pd.set_option(\"display.max_columns\", 10)\n"
      ],
      "metadata": {
        "id": "O0wo57TjTUKm"
      },
      "execution_count": null,
      "outputs": []
    },
    {
      "cell_type": "code",
      "source": [
        "df4=df3.stack()\n",
        "df4"
      ],
      "metadata": {
        "id": "1eivsMj5Sk0C"
      },
      "execution_count": null,
      "outputs": []
    },
    {
      "cell_type": "code",
      "source": [
        "df5=df4.to_frame(name='values')\n",
        "df5"
      ],
      "metadata": {
        "id": "5cU9TFMdVOcM"
      },
      "execution_count": null,
      "outputs": []
    },
    {
      "cell_type": "code",
      "source": [
        "df5.count()"
      ],
      "metadata": {
        "id": "g76L5X3YXIBn"
      },
      "execution_count": null,
      "outputs": []
    },
    {
      "cell_type": "code",
      "source": [
        "index=pd.Index(range(29730))\n",
        "df6=df5.reset_index()\n",
        "df6"
      ],
      "metadata": {
        "id": "_G8QXFeYW5o-"
      },
      "execution_count": null,
      "outputs": []
    },
    {
      "cell_type": "code",
      "source": [
        "df7=df6.rename(columns={'level_1':'percent_change'})\n",
        "df7"
      ],
      "metadata": {
        "id": "8ft3zXP0YykC"
      },
      "execution_count": null,
      "outputs": []
    },
    {
      "cell_type": "code",
      "source": [
        "import seaborn as sns\n",
        "import matplotlib.pyplot as plt"
      ],
      "metadata": {
        "id": "cK4HJ_38ZVAw"
      },
      "execution_count": null,
      "outputs": []
    },
    {
      "cell_type": "code",
      "source": [
        "sns.catplot(x='percent_change',y='values',hue='name',data=df7,kind='point').fig.set_size_inches(10,10)\n"
      ],
      "metadata": {
        "id": "GccVhx5iZk2z"
      },
      "execution_count": null,
      "outputs": []
    },
    {
      "cell_type": "code",
      "source": [
        "df7['percent_change']=df7['percent_change'].replace(['quote.USD.percent_change_1h','quote.USD.percent_change_24h','quote.USD.percent_change_7d','quote.USD.percent_change_30d','quote.USD.percent_change_60d'],['1h','24h','7d','30d','60d'])"
      ],
      "metadata": {
        "id": "Hlkpf72ibgKW"
      },
      "execution_count": null,
      "outputs": []
    },
    {
      "cell_type": "code",
      "source": [
        "df7"
      ],
      "metadata": {
        "id": "afUMEHcbd_hn"
      },
      "execution_count": null,
      "outputs": []
    },
    {
      "cell_type": "code",
      "source": [
        "df10=df[['name','quote.USD.price','timestamp']]\n",
        "df10=df10.query(\"name=='Bitcoin'\")\n",
        "df10\n"
      ],
      "metadata": {
        "id": "GXWNX5Kaf_dD"
      },
      "execution_count": null,
      "outputs": []
    },
    {
      "cell_type": "code",
      "source": [
        "sns.lineplot(x='timestamp',y='quote.USD.price',data=df10)"
      ],
      "metadata": {
        "id": "MljCALTdgWJu"
      },
      "execution_count": null,
      "outputs": []
    }
  ]
}